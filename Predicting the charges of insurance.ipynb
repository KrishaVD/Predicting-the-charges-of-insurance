{
 "cells": [
  {
   "cell_type": "code",
   "execution_count": 21,
   "id": "059d2c53",
   "metadata": {},
   "outputs": [],
   "source": [
    "import numpy as np \n",
    "import matplotlib.pyplot as plt\n",
    "import pandas as pd \n",
    "import seaborn as sns \n",
    "%matplotlib inline"
   ]
  },
  {
   "cell_type": "code",
   "execution_count": 22,
   "id": "11e11b4d",
   "metadata": {},
   "outputs": [],
   "source": [
    "data = pd.read_csv(r\"C:\\Users\\krish\\OneDrive\\KrishDocs\\A a-level preparation\\datasets\\insurance.csv\")"
   ]
  },
  {
   "cell_type": "code",
   "execution_count": 23,
   "id": "645ee511",
   "metadata": {},
   "outputs": [
    {
     "data": {
      "text/html": [
       "<div>\n",
       "<style scoped>\n",
       "    .dataframe tbody tr th:only-of-type {\n",
       "        vertical-align: middle;\n",
       "    }\n",
       "\n",
       "    .dataframe tbody tr th {\n",
       "        vertical-align: top;\n",
       "    }\n",
       "\n",
       "    .dataframe thead th {\n",
       "        text-align: right;\n",
       "    }\n",
       "</style>\n",
       "<table border=\"1\" class=\"dataframe\">\n",
       "  <thead>\n",
       "    <tr style=\"text-align: right;\">\n",
       "      <th></th>\n",
       "      <th>age</th>\n",
       "      <th>sex</th>\n",
       "      <th>bmi</th>\n",
       "      <th>children</th>\n",
       "      <th>smoker</th>\n",
       "      <th>region</th>\n",
       "      <th>charges</th>\n",
       "    </tr>\n",
       "  </thead>\n",
       "  <tbody>\n",
       "    <tr>\n",
       "      <th>0</th>\n",
       "      <td>19</td>\n",
       "      <td>female</td>\n",
       "      <td>27.900</td>\n",
       "      <td>0</td>\n",
       "      <td>yes</td>\n",
       "      <td>southwest</td>\n",
       "      <td>16884.92400</td>\n",
       "    </tr>\n",
       "    <tr>\n",
       "      <th>1</th>\n",
       "      <td>18</td>\n",
       "      <td>male</td>\n",
       "      <td>33.770</td>\n",
       "      <td>1</td>\n",
       "      <td>no</td>\n",
       "      <td>southeast</td>\n",
       "      <td>1725.55230</td>\n",
       "    </tr>\n",
       "    <tr>\n",
       "      <th>2</th>\n",
       "      <td>28</td>\n",
       "      <td>male</td>\n",
       "      <td>33.000</td>\n",
       "      <td>3</td>\n",
       "      <td>no</td>\n",
       "      <td>southeast</td>\n",
       "      <td>4449.46200</td>\n",
       "    </tr>\n",
       "    <tr>\n",
       "      <th>3</th>\n",
       "      <td>33</td>\n",
       "      <td>male</td>\n",
       "      <td>22.705</td>\n",
       "      <td>0</td>\n",
       "      <td>no</td>\n",
       "      <td>northwest</td>\n",
       "      <td>21984.47061</td>\n",
       "    </tr>\n",
       "    <tr>\n",
       "      <th>4</th>\n",
       "      <td>32</td>\n",
       "      <td>male</td>\n",
       "      <td>28.880</td>\n",
       "      <td>0</td>\n",
       "      <td>no</td>\n",
       "      <td>northwest</td>\n",
       "      <td>3866.85520</td>\n",
       "    </tr>\n",
       "  </tbody>\n",
       "</table>\n",
       "</div>"
      ],
      "text/plain": [
       "   age     sex     bmi  children smoker     region      charges\n",
       "0   19  female  27.900         0    yes  southwest  16884.92400\n",
       "1   18    male  33.770         1     no  southeast   1725.55230\n",
       "2   28    male  33.000         3     no  southeast   4449.46200\n",
       "3   33    male  22.705         0     no  northwest  21984.47061\n",
       "4   32    male  28.880         0     no  northwest   3866.85520"
      ]
     },
     "execution_count": 23,
     "metadata": {},
     "output_type": "execute_result"
    }
   ],
   "source": [
    "data.head()"
   ]
  },
  {
   "cell_type": "code",
   "execution_count": 4,
   "id": "c60e616b",
   "metadata": {},
   "outputs": [
    {
     "data": {
      "text/html": [
       "<div>\n",
       "<style scoped>\n",
       "    .dataframe tbody tr th:only-of-type {\n",
       "        vertical-align: middle;\n",
       "    }\n",
       "\n",
       "    .dataframe tbody tr th {\n",
       "        vertical-align: top;\n",
       "    }\n",
       "\n",
       "    .dataframe thead th {\n",
       "        text-align: right;\n",
       "    }\n",
       "</style>\n",
       "<table border=\"1\" class=\"dataframe\">\n",
       "  <thead>\n",
       "    <tr style=\"text-align: right;\">\n",
       "      <th></th>\n",
       "      <th>age</th>\n",
       "      <th>sex</th>\n",
       "      <th>bmi</th>\n",
       "      <th>children</th>\n",
       "      <th>smoker</th>\n",
       "      <th>region</th>\n",
       "      <th>charges</th>\n",
       "    </tr>\n",
       "  </thead>\n",
       "  <tbody>\n",
       "    <tr>\n",
       "      <th>1333</th>\n",
       "      <td>50</td>\n",
       "      <td>male</td>\n",
       "      <td>30.97</td>\n",
       "      <td>3</td>\n",
       "      <td>no</td>\n",
       "      <td>northwest</td>\n",
       "      <td>10600.5483</td>\n",
       "    </tr>\n",
       "    <tr>\n",
       "      <th>1334</th>\n",
       "      <td>18</td>\n",
       "      <td>female</td>\n",
       "      <td>31.92</td>\n",
       "      <td>0</td>\n",
       "      <td>no</td>\n",
       "      <td>northeast</td>\n",
       "      <td>2205.9808</td>\n",
       "    </tr>\n",
       "    <tr>\n",
       "      <th>1335</th>\n",
       "      <td>18</td>\n",
       "      <td>female</td>\n",
       "      <td>36.85</td>\n",
       "      <td>0</td>\n",
       "      <td>no</td>\n",
       "      <td>southeast</td>\n",
       "      <td>1629.8335</td>\n",
       "    </tr>\n",
       "    <tr>\n",
       "      <th>1336</th>\n",
       "      <td>21</td>\n",
       "      <td>female</td>\n",
       "      <td>25.80</td>\n",
       "      <td>0</td>\n",
       "      <td>no</td>\n",
       "      <td>southwest</td>\n",
       "      <td>2007.9450</td>\n",
       "    </tr>\n",
       "    <tr>\n",
       "      <th>1337</th>\n",
       "      <td>61</td>\n",
       "      <td>female</td>\n",
       "      <td>29.07</td>\n",
       "      <td>0</td>\n",
       "      <td>yes</td>\n",
       "      <td>northwest</td>\n",
       "      <td>29141.3603</td>\n",
       "    </tr>\n",
       "  </tbody>\n",
       "</table>\n",
       "</div>"
      ],
      "text/plain": [
       "      age     sex    bmi  children smoker     region     charges\n",
       "1333   50    male  30.97         3     no  northwest  10600.5483\n",
       "1334   18  female  31.92         0     no  northeast   2205.9808\n",
       "1335   18  female  36.85         0     no  southeast   1629.8335\n",
       "1336   21  female  25.80         0     no  southwest   2007.9450\n",
       "1337   61  female  29.07         0    yes  northwest  29141.3603"
      ]
     },
     "execution_count": 4,
     "metadata": {},
     "output_type": "execute_result"
    }
   ],
   "source": [
    "data.tail()"
   ]
  },
  {
   "cell_type": "code",
   "execution_count": 5,
   "id": "106de7f6",
   "metadata": {},
   "outputs": [
    {
     "data": {
      "text/plain": [
       "age         0\n",
       "sex         0\n",
       "bmi         0\n",
       "children    0\n",
       "smoker      0\n",
       "region      0\n",
       "charges     0\n",
       "dtype: int64"
      ]
     },
     "execution_count": 5,
     "metadata": {},
     "output_type": "execute_result"
    }
   ],
   "source": [
    "data.isnull().sum()"
   ]
  },
  {
   "cell_type": "code",
   "execution_count": 6,
   "id": "5da973e6",
   "metadata": {},
   "outputs": [],
   "source": [
    "x=data.iloc[:,:-1].values\n",
    "y=data.iloc[:,6].values"
   ]
  },
  {
   "cell_type": "code",
   "execution_count": 7,
   "id": "d1eab209",
   "metadata": {},
   "outputs": [
    {
     "data": {
      "text/plain": [
       "array([[19, 'female', 27.9, 0, 'yes', 'southwest'],\n",
       "       [18, 'male', 33.77, 1, 'no', 'southeast'],\n",
       "       [28, 'male', 33.0, 3, 'no', 'southeast'],\n",
       "       ...,\n",
       "       [18, 'female', 36.85, 0, 'no', 'southeast'],\n",
       "       [21, 'female', 25.8, 0, 'no', 'southwest'],\n",
       "       [61, 'female', 29.07, 0, 'yes', 'northwest']], dtype=object)"
      ]
     },
     "execution_count": 7,
     "metadata": {},
     "output_type": "execute_result"
    }
   ],
   "source": [
    "x"
   ]
  },
  {
   "cell_type": "code",
   "execution_count": 8,
   "id": "84b2f15c",
   "metadata": {},
   "outputs": [
    {
     "data": {
      "text/plain": [
       "array([16884.924 ,  1725.5523,  4449.462 , ...,  1629.8335,  2007.945 ,\n",
       "       29141.3603])"
      ]
     },
     "execution_count": 8,
     "metadata": {},
     "output_type": "execute_result"
    }
   ],
   "source": [
    "y"
   ]
  },
  {
   "cell_type": "code",
   "execution_count": 9,
   "id": "e0f9e08f",
   "metadata": {},
   "outputs": [
    {
     "data": {
      "text/plain": [
       "<AxesSubplot:>"
      ]
     },
     "execution_count": 9,
     "metadata": {},
     "output_type": "execute_result"
    },
    {
     "data": {
      "image/png": "[encoded data removed]",
      "text/plain": [
       "<Figure size 432x288 with 2 Axes>"
      ]
     },
     "metadata": {
      "needs_background": "light"
     },
     "output_type": "display_data"
    }
   ],
   "source": [
    "sns.heatmap(data.corr())"
   ]
  },
  {
   "cell_type": "code",
   "execution_count": 10,
   "id": "41b4091d",
   "metadata": {},
   "outputs": [],
   "source": [
    "from sklearn.preprocessing import LabelEncoder, OneHotEncoder\n",
    "labelencoder= LabelEncoder()\n",
    "\n"
   ]
  },
  {
   "cell_type": "code",
   "execution_count": 11,
   "id": "54eaf8b2",
   "metadata": {},
   "outputs": [],
   "source": [
    "categorical_columns = [\"sex\",\"children\",\"smoker\",\"region\"]\n",
    "data_encode=pd.get_dummies(data = data, prefix = 'OHE', prefix_sep='_')"
   ]
  },
  {
   "cell_type": "code",
   "execution_count": 12,
   "id": "5e236cbf",
   "metadata": {},
   "outputs": [
    {
     "data": {
      "text/html": [
       "<div>\n",
       "<style scoped>\n",
       "    .dataframe tbody tr th:only-of-type {\n",
       "        vertical-align: middle;\n",
       "    }\n",
       "\n",
       "    .dataframe tbody tr th {\n",
       "        vertical-align: top;\n",
       "    }\n",
       "\n",
       "    .dataframe thead th {\n",
       "        text-align: right;\n",
       "    }\n",
       "</style>\n",
       "<table border=\"1\" class=\"dataframe\">\n",
       "  <thead>\n",
       "    <tr style=\"text-align: right;\">\n",
       "      <th></th>\n",
       "      <th>age</th>\n",
       "      <th>bmi</th>\n",
       "      <th>children</th>\n",
       "      <th>charges</th>\n",
       "      <th>OHE_female</th>\n",
       "      <th>OHE_male</th>\n",
       "      <th>OHE_no</th>\n",
       "      <th>OHE_yes</th>\n",
       "      <th>OHE_northeast</th>\n",
       "      <th>OHE_northwest</th>\n",
       "      <th>OHE_southeast</th>\n",
       "      <th>OHE_southwest</th>\n",
       "    </tr>\n",
       "  </thead>\n",
       "  <tbody>\n",
       "    <tr>\n",
       "      <th>0</th>\n",
       "      <td>19</td>\n",
       "      <td>27.900</td>\n",
       "      <td>0</td>\n",
       "      <td>16884.92400</td>\n",
       "      <td>1</td>\n",
       "      <td>0</td>\n",
       "      <td>0</td>\n",
       "      <td>1</td>\n",
       "      <td>0</td>\n",
       "      <td>0</td>\n",
       "      <td>0</td>\n",
       "      <td>1</td>\n",
       "    </tr>\n",
       "    <tr>\n",
       "      <th>1</th>\n",
       "      <td>18</td>\n",
       "      <td>33.770</td>\n",
       "      <td>1</td>\n",
       "      <td>1725.55230</td>\n",
       "      <td>0</td>\n",
       "      <td>1</td>\n",
       "      <td>1</td>\n",
       "      <td>0</td>\n",
       "      <td>0</td>\n",
       "      <td>0</td>\n",
       "      <td>1</td>\n",
       "      <td>0</td>\n",
       "    </tr>\n",
       "    <tr>\n",
       "      <th>2</th>\n",
       "      <td>28</td>\n",
       "      <td>33.000</td>\n",
       "      <td>3</td>\n",
       "      <td>4449.46200</td>\n",
       "      <td>0</td>\n",
       "      <td>1</td>\n",
       "      <td>1</td>\n",
       "      <td>0</td>\n",
       "      <td>0</td>\n",
       "      <td>0</td>\n",
       "      <td>1</td>\n",
       "      <td>0</td>\n",
       "    </tr>\n",
       "    <tr>\n",
       "      <th>3</th>\n",
       "      <td>33</td>\n",
       "      <td>22.705</td>\n",
       "      <td>0</td>\n",
       "      <td>21984.47061</td>\n",
       "      <td>0</td>\n",
       "      <td>1</td>\n",
       "      <td>1</td>\n",
       "      <td>0</td>\n",
       "      <td>0</td>\n",
       "      <td>1</td>\n",
       "      <td>0</td>\n",
       "      <td>0</td>\n",
       "    </tr>\n",
       "    <tr>\n",
       "      <th>4</th>\n",
       "      <td>32</td>\n",
       "      <td>28.880</td>\n",
       "      <td>0</td>\n",
       "      <td>3866.85520</td>\n",
       "      <td>0</td>\n",
       "      <td>1</td>\n",
       "      <td>1</td>\n",
       "      <td>0</td>\n",
       "      <td>0</td>\n",
       "      <td>1</td>\n",
       "      <td>0</td>\n",
       "      <td>0</td>\n",
       "    </tr>\n",
       "    <tr>\n",
       "      <th>...</th>\n",
       "      <td>...</td>\n",
       "      <td>...</td>\n",
       "      <td>...</td>\n",
       "      <td>...</td>\n",
       "      <td>...</td>\n",
       "      <td>...</td>\n",
       "      <td>...</td>\n",
       "      <td>...</td>\n",
       "      <td>...</td>\n",
       "      <td>...</td>\n",
       "      <td>...</td>\n",
       "      <td>...</td>\n",
       "    </tr>\n",
       "    <tr>\n",
       "      <th>1333</th>\n",
       "      <td>50</td>\n",
       "      <td>30.970</td>\n",
       "      <td>3</td>\n",
       "      <td>10600.54830</td>\n",
       "      <td>0</td>\n",
       "      <td>1</td>\n",
       "      <td>1</td>\n",
       "      <td>0</td>\n",
       "      <td>0</td>\n",
       "      <td>1</td>\n",
       "      <td>0</td>\n",
       "      <td>0</td>\n",
       "    </tr>\n",
       "    <tr>\n",
       "      <th>1334</th>\n",
       "      <td>18</td>\n",
       "      <td>31.920</td>\n",
       "      <td>0</td>\n",
       "      <td>2205.98080</td>\n",
       "      <td>1</td>\n",
       "      <td>0</td>\n",
       "      <td>1</td>\n",
       "      <td>0</td>\n",
       "      <td>1</td>\n",
       "      <td>0</td>\n",
       "      <td>0</td>\n",
       "      <td>0</td>\n",
       "    </tr>\n",
       "    <tr>\n",
       "      <th>1335</th>\n",
       "      <td>18</td>\n",
       "      <td>36.850</td>\n",
       "      <td>0</td>\n",
       "      <td>1629.83350</td>\n",
       "      <td>1</td>\n",
       "      <td>0</td>\n",
       "      <td>1</td>\n",
       "      <td>0</td>\n",
       "      <td>0</td>\n",
       "      <td>0</td>\n",
       "      <td>1</td>\n",
       "      <td>0</td>\n",
       "    </tr>\n",
       "    <tr>\n",
       "      <th>1336</th>\n",
       "      <td>21</td>\n",
       "      <td>25.800</td>\n",
       "      <td>0</td>\n",
       "      <td>2007.94500</td>\n",
       "      <td>1</td>\n",
       "      <td>0</td>\n",
       "      <td>1</td>\n",
       "      <td>0</td>\n",
       "      <td>0</td>\n",
       "      <td>0</td>\n",
       "      <td>0</td>\n",
       "      <td>1</td>\n",
       "    </tr>\n",
       "    <tr>\n",
       "      <th>1337</th>\n",
       "      <td>61</td>\n",
       "      <td>29.070</td>\n",
       "      <td>0</td>\n",
       "      <td>29141.36030</td>\n",
       "      <td>1</td>\n",
       "      <td>0</td>\n",
       "      <td>0</td>\n",
       "      <td>1</td>\n",
       "      <td>0</td>\n",
       "      <td>1</td>\n",
       "      <td>0</td>\n",
       "      <td>0</td>\n",
       "    </tr>\n",
       "  </tbody>\n",
       "</table>\n",
       "<p>1338 rows × 12 columns</p>\n",
       "</div>"
      ],
      "text/plain": [
       "      age     bmi  children      charges  OHE_female  OHE_male  OHE_no  \\\n",
       "0      19  27.900         0  16884.92400           1         0       0   \n",
       "1      18  33.770         1   1725.55230           0         1       1   \n",
       "2      28  33.000         3   4449.46200           0         1       1   \n",
       "3      33  22.705         0  21984.47061           0         1       1   \n",
       "4      32  28.880         0   3866.85520           0         1       1   \n",
       "...   ...     ...       ...          ...         ...       ...     ...   \n",
       "1333   50  30.970         3  10600.54830           0         1       1   \n",
       "1334   18  31.920         0   2205.98080           1         0       1   \n",
       "1335   18  36.850         0   1629.83350           1         0       1   \n",
       "1336   21  25.800         0   2007.94500           1         0       1   \n",
       "1337   61  29.070         0  29141.36030           1         0       0   \n",
       "\n",
       "      OHE_yes  OHE_northeast  OHE_northwest  OHE_southeast  OHE_southwest  \n",
       "0           1              0              0              0              1  \n",
       "1           0              0              0              1              0  \n",
       "2           0              0              0              1              0  \n",
       "3           0              0              1              0              0  \n",
       "4           0              0              1              0              0  \n",
       "...       ...            ...            ...            ...            ...  \n",
       "1333        0              0              1              0              0  \n",
       "1334        0              1              0              0              0  \n",
       "1335        0              0              0              1              0  \n",
       "1336        0              0              0              0              1  \n",
       "1337        1              0              1              0              0  \n",
       "\n",
       "[1338 rows x 12 columns]"
      ]
     },
     "execution_count": 12,
     "metadata": {},
     "output_type": "execute_result"
    }
   ],
   "source": [
    "data_encode"
   ]
  },
  {
   "cell_type": "code",
   "execution_count": 13,
   "id": "c7ca9f9c",
   "metadata": {},
   "outputs": [],
   "source": [
    "from sklearn.model_selection import train_test_split\n",
    "X = data_encode.drop('charges', axis =1)\n",
    "y = data_encode['charges']\n",
    "X_train, X_test, y_train, y_test = train_test_split(X, y, test_size =0.2, random_state =0)"
   ]
  },
  {
   "cell_type": "code",
   "execution_count": 14,
   "id": "ef503fd8",
   "metadata": {},
   "outputs": [
    {
     "data": {
      "text/plain": [
       "LinearRegression()"
      ]
     },
     "execution_count": 14,
     "metadata": {},
     "output_type": "execute_result"
    }
   ],
   "source": [
    "from sklearn.linear_model import LinearRegression \n",
    "regressor= LinearRegression()\n",
    "regressor.fit(X_train, y_train)"
   ]
  },
  {
   "cell_type": "code",
   "execution_count": 15,
   "id": "35e28b8b",
   "metadata": {},
   "outputs": [
    {
     "data": {
      "text/plain": [
       "array([1.11699271e+04, 9.48670909e+03, 3.81811231e+04, 1.62663133e+04,\n",
       "       6.91464801e+03, 3.96348488e+03, 1.57939691e+03, 1.43852566e+04,\n",
       "       9.01257970e+03, 7.50846068e+03, 4.49176728e+03, 1.02795839e+04,\n",
       "       8.80129751e+03, 3.79802013e+03, 2.79262010e+04, 1.07151158e+04,\n",
       "       1.12889756e+04, 6.10501768e+03, 8.24104117e+03, 2.71445089e+04,\n",
       "       3.36440910e+04, 1.43551043e+04, 1.17372043e+04, 3.21374335e+04,\n",
       "       4.17005913e+03, 9.25496051e+03, 1.08433751e+03, 9.80417085e+03,\n",
       "       3.77104596e+03, 1.04318587e+04, 9.00931722e+03, 4.00749509e+04,\n",
       "       1.56889543e+04, 1.38794545e+04, 2.47597127e+04, 5.16638285e+03,\n",
       "       1.26109277e+04, 3.07691018e+04, 3.35498325e+04, 3.67154946e+03,\n",
       "       3.97568613e+03, 3.98729942e+03, 3.05285774e+04, 3.95053023e+04,\n",
       "       2.78105036e+04, 5.09258923e+03, 1.06042481e+04, 7.82952256e+03,\n",
       "       3.59255553e+03, 1.02128745e+04, 5.72038147e+03, 3.42627499e+03,\n",
       "       3.30210242e+04, 3.84738218e+04, 1.60534782e+04, 7.16491905e+03,\n",
       "       5.73919977e+03, 9.45413291e+03, 8.91062701e+03, 1.17258857e+04,\n",
       "       1.85695629e+03, 3.89143605e+04, 1.48996730e+04, 1.18049582e+04,\n",
       "       1.40504025e+04, 1.40561445e+04, 2.58313858e+04, 3.22305543e+04,\n",
       "       8.14404366e+02, 1.01648424e+04, 1.23598596e+04, 1.15278235e+04,\n",
       "       2.52453261e+04, 1.56220088e+04, 1.12086899e+04, 1.26497320e+04,\n",
       "       6.55670777e+03, 9.59052489e+03, 3.01863021e+04, 3.91076220e+04,\n",
       "       1.20498440e+04, 3.72942684e+04, 4.26550696e+03, 9.39402362e+03,\n",
       "       3.48527716e+04, 2.88476976e+04, 8.68792419e+03, 4.92922782e+03,\n",
       "       1.20387310e+04, 3.04700336e+04, 1.00804115e+04, 1.13933297e+04,\n",
       "       8.39810225e+03, 8.89883547e+03, 8.43179031e+03, 7.32351973e+03,\n",
       "       3.60240264e+04, 3.31822505e+04, 7.66151070e+03, 1.51410434e+04,\n",
       "       4.01724462e+03, 8.82872049e+03, 6.32285473e+03, 3.15486188e+04,\n",
       "       3.29786059e+04, 1.97482884e+03, 9.02652020e+03, 6.69683477e+03,\n",
       "       1.45844352e+04, 3.72411416e+04, 1.01354727e+04, 1.05842948e+04,\n",
       "       1.02289339e+04, 2.69881891e+04, 3.99001531e+04, 8.46273248e+03,\n",
       "       2.96616055e+02, 9.01614987e+03, 1.52639740e+04, 9.52664600e+03,\n",
       "       3.51526354e+04, 7.26409791e+03, 1.69845335e+04, 9.65329622e+03,\n",
       "       8.24868725e+03, 2.94113601e+03, 3.29148059e+04, 3.14835586e+04,\n",
       "       3.96264776e+04, 5.60762983e+03, 9.31034135e+03, 3.59216725e+03,\n",
       "       7.64687550e+03, 8.62747451e+03, 3.17338367e+04, 2.99730030e+04,\n",
       "       2.97817459e+04, 8.72605750e+03, 3.24335307e+04, 3.36029421e+03,\n",
       "       3.70973675e+03, 1.11375495e+04, 1.31502938e+04, 1.28674710e+04,\n",
       "       5.44883743e+03, 1.55800620e+04, 1.49332492e+04, 2.40834350e+03,\n",
       "       2.55105191e+01, 1.08468131e+04, 7.40948170e+03, 3.18522280e+04,\n",
       "       1.23836972e+04, 2.33566633e+03, 6.47818023e+03, 7.85862923e+03,\n",
       "       4.44708534e+03, 2.11393087e+03, 1.13548234e+04, 1.25406264e+04,\n",
       "       7.26445489e+03, 1.63876100e+04, 1.18151028e+04, 1.41078734e+04,\n",
       "       3.18429940e+03, 7.29134465e+03, 2.31256976e+04, 7.59255833e+03,\n",
       "       5.49044860e+03, 5.20329589e+03, 6.75891084e+03, 5.19817369e+03,\n",
       "       1.00037544e+04, 5.37962241e+03, 5.73483115e+03, 6.64184520e+03,\n",
       "       3.69809973e+03, 5.56834710e+03, 3.80623106e+04, 1.50010025e+03,\n",
       "       1.26381400e+04, 8.96683074e+03, 1.37833538e+04, 5.40160572e+03,\n",
       "       5.18838626e+03, 3.64594383e+04, 4.39797382e+03, 2.04401666e+03,\n",
       "       1.52236399e+04, 1.26797512e+04, 3.51385215e+04, 4.78068826e+03,\n",
       "       5.68154275e+03, 3.12300371e+04, 6.20751775e+03, 2.15116663e+03,\n",
       "       8.43897221e+03, 1.00468638e+04, 8.00237197e+03, 5.80481228e+03,\n",
       "       1.31602625e+04, 3.84674533e+04, 1.37503227e+04, 2.88764140e+04,\n",
       "       6.78756483e+03, 3.55308164e+04, 3.76682638e+03, 1.18919418e+04,\n",
       "       9.05961188e+03, 6.25955354e+03, 1.13624630e+04, 1.45614575e+04,\n",
       "       5.16699954e+03, 4.46624724e+03, 7.90887368e+03, 1.34485587e+03,\n",
       "       7.85618662e+03, 4.41748996e+03, 1.28875526e+04, 4.24146225e+03,\n",
       "       1.01131120e+04, 7.19651081e+03, 9.29692707e+03, 2.39780639e+03,\n",
       "       1.32449759e+04, 1.68678325e+04, 1.49416610e+04, 1.05908697e+04,\n",
       "       5.29006788e+03, 2.23337923e+03, 1.93571212e+03, 1.35089298e+04,\n",
       "       1.40528682e+04, 5.01861017e+03, 3.75949429e+03, 9.48805737e+03,\n",
       "       9.97840316e+03, 2.82869768e+04, 7.64934971e+03, 1.04709900e+04,\n",
       "       6.32317041e+03, 2.98547629e+04, 1.11497389e+04, 7.50699533e+03,\n",
       "       1.02337020e+04, 1.22479679e+04, 3.00735612e+03, 1.08754195e+04,\n",
       "       1.54095549e+03, 7.03804311e+03, 2.84462147e+04, 3.86899494e+04,\n",
       "       6.36993923e+03, 8.19218360e+03, 2.53689093e+03, 4.46856827e+02,\n",
       "       1.05698935e+04, 4.20548633e+03, 4.95501030e+03, 2.34316816e+03,\n",
       "       6.80728001e+03, 3.34095038e+04, 3.82467605e+04, 1.47602310e+04,\n",
       "       8.27798435e+03, 1.61499734e+04, 3.29047581e+04, 9.46761406e+03])"
      ]
     },
     "execution_count": 15,
     "metadata": {},
     "output_type": "execute_result"
    }
   ],
   "source": [
    "y_pred = regressor.predict(X_test)\n",
    "y_pred"
   ]
  },
  {
   "cell_type": "code",
   "execution_count": 16,
   "id": "dfa2eb62",
   "metadata": {},
   "outputs": [
    {
     "name": "stdout",
     "output_type": "stream",
     "text": [
      "[ 2.53700500e+02  3.35962814e+02  4.36910121e+02  7.73186394e+00\n",
      " -7.73186394e+00 -1.18025086e+04  1.18025086e+04  4.83840068e+02\n",
      "  2.23707336e+02 -4.29438766e+02 -2.78108638e+02]\n"
     ]
    }
   ],
   "source": [
    "print(regressor.coef_)"
   ]
  },
  {
   "cell_type": "code",
   "execution_count": 17,
   "id": "b59f6efa",
   "metadata": {},
   "outputs": [
    {
     "name": "stdout",
     "output_type": "stream",
     "text": [
      "-517.1368358425716\n"
     ]
    }
   ],
   "source": [
    "print(regressor.intercept_)"
   ]
  },
  {
   "cell_type": "code",
   "execution_count": 18,
   "id": "a1efe1a8",
   "metadata": {},
   "outputs": [
    {
     "data": {
      "text/plain": [
       "0.7999876970680434"
      ]
     },
     "execution_count": 18,
     "metadata": {},
     "output_type": "execute_result"
    }
   ],
   "source": [
    "from sklearn.metrics import r2_score\n",
    "r2_score(y_test, y_pred)"
   ]
  },
  {
   "cell_type": "code",
   "execution_count": 19,
   "id": "4ea96251",
   "metadata": {},
   "outputs": [
    {
     "name": "stderr",
     "output_type": "stream",
     "text": [
      "C:\\Users\\krish\\anaconda3\\lib\\site-packages\\seaborn\\_decorators.py:36: FutureWarning: Pass the following variables as keyword args: x, y. From version 0.12, the only valid positional argument will be `data`, and passing other arguments without an explicit keyword will result in an error or misinterpretation.\n",
      "  warnings.warn(\n"
     ]
    },
    {
     "data": {
      "text/plain": [
       "Text(0.5, 1.0, 'Check for Linearity:\\n Actual Vs Predicted value')"
      ]
     },
     "execution_count": 19,
     "metadata": {},
     "output_type": "execute_result"
    },
    {
     "data": {
      "image/png": "[encoded data removed]",
      "text/plain": [
       "<Figure size 1008x360 with 1 Axes>"
      ]
     },
     "metadata": {
      "needs_background": "light"
     },
     "output_type": "display_data"
    }
   ],
   "source": [
    "f = plt.figure(figsize=(14,5))\n",
    "ax = f.add_subplot(121)\n",
    "sns.scatterplot(y_test,y_pred,ax=ax,color='r')\n",
    "ax.set_title('Check for Linearity:\\n Actual Vs Predicted value')"
   ]
  },
  {
   "cell_type": "code",
   "execution_count": 20,
   "id": "7665b472",
   "metadata": {},
   "outputs": [
    {
     "data": {
      "text/html": [
       "<div>\n",
       "<style scoped>\n",
       "    .dataframe tbody tr th:only-of-type {\n",
       "        vertical-align: middle;\n",
       "    }\n",
       "\n",
       "    .dataframe tbody tr th {\n",
       "        vertical-align: top;\n",
       "    }\n",
       "\n",
       "    .dataframe thead th {\n",
       "        text-align: right;\n",
       "    }\n",
       "</style>\n",
       "<table border=\"1\" class=\"dataframe\">\n",
       "  <thead>\n",
       "    <tr style=\"text-align: right;\">\n",
       "      <th></th>\n",
       "      <th>age</th>\n",
       "      <th>bmi</th>\n",
       "      <th>children</th>\n",
       "      <th>charges</th>\n",
       "      <th>OHE_female</th>\n",
       "      <th>OHE_male</th>\n",
       "      <th>OHE_no</th>\n",
       "      <th>OHE_yes</th>\n",
       "      <th>OHE_northeast</th>\n",
       "      <th>OHE_northwest</th>\n",
       "      <th>OHE_southeast</th>\n",
       "      <th>OHE_southwest</th>\n",
       "    </tr>\n",
       "  </thead>\n",
       "  <tbody>\n",
       "    <tr>\n",
       "      <th>0</th>\n",
       "      <td>19</td>\n",
       "      <td>27.900</td>\n",
       "      <td>0</td>\n",
       "      <td>16884.92400</td>\n",
       "      <td>1</td>\n",
       "      <td>0</td>\n",
       "      <td>0</td>\n",
       "      <td>1</td>\n",
       "      <td>0</td>\n",
       "      <td>0</td>\n",
       "      <td>0</td>\n",
       "      <td>1</td>\n",
       "    </tr>\n",
       "    <tr>\n",
       "      <th>1</th>\n",
       "      <td>18</td>\n",
       "      <td>33.770</td>\n",
       "      <td>1</td>\n",
       "      <td>1725.55230</td>\n",
       "      <td>0</td>\n",
       "      <td>1</td>\n",
       "      <td>1</td>\n",
       "      <td>0</td>\n",
       "      <td>0</td>\n",
       "      <td>0</td>\n",
       "      <td>1</td>\n",
       "      <td>0</td>\n",
       "    </tr>\n",
       "    <tr>\n",
       "      <th>2</th>\n",
       "      <td>28</td>\n",
       "      <td>33.000</td>\n",
       "      <td>3</td>\n",
       "      <td>4449.46200</td>\n",
       "      <td>0</td>\n",
       "      <td>1</td>\n",
       "      <td>1</td>\n",
       "      <td>0</td>\n",
       "      <td>0</td>\n",
       "      <td>0</td>\n",
       "      <td>1</td>\n",
       "      <td>0</td>\n",
       "    </tr>\n",
       "    <tr>\n",
       "      <th>3</th>\n",
       "      <td>33</td>\n",
       "      <td>22.705</td>\n",
       "      <td>0</td>\n",
       "      <td>21984.47061</td>\n",
       "      <td>0</td>\n",
       "      <td>1</td>\n",
       "      <td>1</td>\n",
       "      <td>0</td>\n",
       "      <td>0</td>\n",
       "      <td>1</td>\n",
       "      <td>0</td>\n",
       "      <td>0</td>\n",
       "    </tr>\n",
       "    <tr>\n",
       "      <th>4</th>\n",
       "      <td>32</td>\n",
       "      <td>28.880</td>\n",
       "      <td>0</td>\n",
       "      <td>3866.85520</td>\n",
       "      <td>0</td>\n",
       "      <td>1</td>\n",
       "      <td>1</td>\n",
       "      <td>0</td>\n",
       "      <td>0</td>\n",
       "      <td>1</td>\n",
       "      <td>0</td>\n",
       "      <td>0</td>\n",
       "    </tr>\n",
       "  </tbody>\n",
       "</table>\n",
       "</div>"
      ],
      "text/plain": [
       "   age     bmi  children      charges  OHE_female  OHE_male  OHE_no  OHE_yes  \\\n",
       "0   19  27.900         0  16884.92400           1         0       0        1   \n",
       "1   18  33.770         1   1725.55230           0         1       1        0   \n",
       "2   28  33.000         3   4449.46200           0         1       1        0   \n",
       "3   33  22.705         0  21984.47061           0         1       1        0   \n",
       "4   32  28.880         0   3866.85520           0         1       1        0   \n",
       "\n",
       "   OHE_northeast  OHE_northwest  OHE_southeast  OHE_southwest  \n",
       "0              0              0              0              1  \n",
       "1              0              0              1              0  \n",
       "2              0              0              1              0  \n",
       "3              0              1              0              0  \n",
       "4              0              1              0              0  "
      ]
     },
     "execution_count": 20,
     "metadata": {},
     "output_type": "execute_result"
    }
   ],
   "source": [
    "data_encode.head()"
   ]
  }
 ],
 "metadata": {
  "kernelspec": {
   "display_name": "Python 3",
   "language": "python",
   "name": "python3"
  },
  "language_info": {
   "codemirror_mode": {
    "name": "ipython",
    "version": 3
   },
   "file_extension": ".py",
   "mimetype": "text/x-python",
   "name": "python",
   "nbconvert_exporter": "python",
   "pygments_lexer": "ipython3",
   "version": "3.8.8"
  }
 },
 "nbformat": 4,
 "nbformat_minor": 5
}
